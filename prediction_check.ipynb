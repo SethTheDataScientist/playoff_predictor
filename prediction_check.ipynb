{
 "cells": [
  {
   "cell_type": "code",
   "execution_count": 1,
   "id": "57dcb1fa",
   "metadata": {},
   "outputs": [],
   "source": [
    "import os\n",
    "import pandas as pd\n",
    "import numpy as np\n",
    "import pickle\n",
    "import pyreadr"
   ]
  },
  {
   "cell_type": "code",
   "execution_count": 42,
   "id": "e6e45d7e",
   "metadata": {},
   "outputs": [],
   "source": [
    "with open('C:/Users/sethl/OneDrive/Programming Stuff/Modeling Folder/NFL Models/playoff_predictor/model_evaluation/data/train_groups.pkl', 'rb') as f:\n",
    "    train_groups = pickle.load(f)\n",
    "\n",
    "with open('C:/Users/sethl/OneDrive/Programming Stuff/Modeling Folder/NFL Models/playoff_predictor/model_evaluation/data/train_y.pkl', 'rb') as f:\n",
    "    train_y = pickle.load(f)\n",
    "\n",
    "with open('C:/Users/sethl/OneDrive/Programming Stuff/Modeling Folder/NFL Models/playoff_predictor/model_evaluation/data/test_groups.pkl', 'rb') as f:\n",
    "    test_groups = pickle.load(f)\n",
    "\n",
    "with open('C:/Users/sethl/OneDrive/Programming Stuff/Modeling Folder/NFL Models/playoff_predictor/model_evaluation/data/test_y.pkl', 'rb') as f:\n",
    "    test_y = pickle.load(f)\n",
    "\n",
    "with open('C:/Users/sethl/OneDrive/Programming Stuff/Modeling Folder/NFL Models/playoff_predictor/model_evaluation/data/train_X.pkl', 'rb') as f:\n",
    "    train_X = pickle.load(f)\n",
    "\n",
    "    \n",
    "with open('C:/Users/sethl/OneDrive/Programming Stuff/Modeling Folder/NFL Models/playoff_predictor/model_training/data/model_df.pkl', 'rb') as f:\n",
    "    model_df = pickle.load(f)\n",
    "with open('C:/Users/sethl/OneDrive/Programming Stuff/Modeling Folder/NFL Models/playoff_predictor/model_training/data/season_context.pkl', 'rb') as f:\n",
    "    season_context = pickle.load(f)\n",
    "\n",
    "\n",
    "# model_df = pyreadr.read_r('C:/Users/sethl/OneDrive/Programming Stuff/Modeling Folder/NFL Models/playoff_predictor/data_ingestion/data/modeling_df.rds')[None]\n",
    "\n",
    "FullData = pyreadr.read_r('C:/Users/sethl/OneDrive/Programming Stuff/Modeling Folder/NFL Models/playoff_predictor/data_ingestion/data/FullData.rds')[None]"
   ]
  },
  {
   "cell_type": "code",
   "execution_count": 38,
   "id": "935656c4",
   "metadata": {},
   "outputs": [],
   "source": [
    "FullData = pyreadr.read_r('C:/Users/sethl/OneDrive/Programming Stuff/Modeling Folder/NFL Models/playoff_predictor/data_ingestion/data/FullData.rds')[None]\n",
    "\n",
    "\n",
    "with open('C:/Users/sethl/OneDrive/Programming Stuff/Modeling Folder/NFL Models/playoff_predictor/model_evaluation/data/best_model.pkl', 'rb') as f:\n",
    "    best_model = pickle.load(f)\n",
    "\n",
    "\n",
    "with open('C:/Users/sethl/OneDrive/Programming Stuff/Modeling Folder/NFL Models/playoff_predictor/model_evaluation/data/full_predictions.pkl', 'rb') as f:\n",
    "    full_predictions = pickle.load(f)"
   ]
  },
  {
   "cell_type": "code",
   "execution_count": 49,
   "id": "85988375",
   "metadata": {},
   "outputs": [
    {
     "name": "stderr",
     "output_type": "stream",
     "text": [
      "Downloading artifacts: 100%|██████████| 7/7 [00:02<00:00,  3.00it/s] \n"
     ]
    }
   ],
   "source": [
    "import mlflow\n",
    "from mlflow import MlflowClient\n",
    "\n",
    "client = MlflowClient()\n",
    "mlflow.set_tracking_uri('http://localhost:5000')\n",
    "# Set model version alias\n",
    "model_name = \"playoff_prediction_model\"\n",
    "# model_version_alias = \"legendary-cub-637\"\n",
    "model_version = 7\n",
    "\n",
    "model = mlflow.sklearn.load_model(f\"models:/{model_name}/{model_version}\")\n"
   ]
  },
  {
   "cell_type": "code",
   "execution_count": 50,
   "id": "53505527",
   "metadata": {},
   "outputs": [],
   "source": [
    "\n",
    "output_predictions = model.predict(full_predictions.drop(columns = 'season'))\n",
    "output_predictions = pd.Series(output_predictions, index=full_predictions.index)\n",
    "\n",
    "updated_prediction_set = model_df.copy()\n",
    "updated_prediction_set['predicted_label'] = output_predictions\n",
    "updated_prediction_set = updated_prediction_set[['predicted_label'] + [col for col in updated_prediction_set.columns if col != 'predicted_label']]\n",
    "\n",
    "\n",
    "final_predicitons = pd.merge(FullData, updated_prediction_set, how = 'inner', on = ['WinsPR', 'season', 'OTier', 'DTier', 'OrollTier', 'DrollTier'])\n",
    "final_predicitons = final_predicitons[['predicted_label', 'label'] + [col for col in final_predicitons.columns if col not in ['predicted_label', 'label']]]\n"
   ]
  },
  {
   "cell_type": "markdown",
   "id": "d5aec532",
   "metadata": {},
   "source": [
    "# Regression check"
   ]
  },
  {
   "cell_type": "code",
   "execution_count": 2,
   "id": "418ab756",
   "metadata": {},
   "outputs": [],
   "source": [
    "FullData = pyreadr.read_r('C:/Users/sethl/OneDrive/Programming Stuff/Modeling Folder/NFL Models/playoff_predictor/data_ingestion/data/FullData.rds')[None]\n",
    "\n",
    "\n",
    "with open('C:/Users/sethl/OneDrive/Programming Stuff/Modeling Folder/NFL Models/playoff_predictor/model_evaluation/data/model_df.pkl', 'rb') as f:\n",
    "    model_df = pickle.load(f)\n",
    "\n",
    "\n",
    "with open('C:/Users/sethl/OneDrive/Programming Stuff/Modeling Folder/NFL Models/playoff_predictor/model_evaluation/data/full_predictions.pkl', 'rb') as f:\n",
    "    full_predictions = pickle.load(f)"
   ]
  },
  {
   "cell_type": "code",
   "execution_count": 3,
   "id": "8039be21",
   "metadata": {},
   "outputs": [
    {
     "name": "stderr",
     "output_type": "stream",
     "text": [
      "c:\\Users\\sethl\\AppData\\Local\\Programs\\Python\\Python313\\Lib\\site-packages\\tqdm\\auto.py:21: TqdmWarning: IProgress not found. Please update jupyter and ipywidgets. See https://ipywidgets.readthedocs.io/en/stable/user_install.html\n",
      "  from .autonotebook import tqdm as notebook_tqdm\n",
      "Downloading artifacts: 100%|██████████| 7/7 [00:02<00:00,  3.16it/s]   \n"
     ]
    }
   ],
   "source": [
    "import mlflow\n",
    "from mlflow import MlflowClient\n",
    "\n",
    "client = MlflowClient()\n",
    "mlflow.set_tracking_uri('http://localhost:5000')\n",
    "# Set model version alias\n",
    "model_name = \"playoff_prediction_model_regression\"\n",
    "# model_version_alias = \"legendary-cub-637\"\n",
    "model_version = 1\n",
    "\n",
    "model = mlflow.sklearn.load_model(f\"models:/{model_name}/{model_version}\")\n"
   ]
  },
  {
   "cell_type": "code",
   "execution_count": 4,
   "id": "5f294414",
   "metadata": {},
   "outputs": [],
   "source": [
    "\n",
    "output_predictions = model.predict(full_predictions.drop(columns = 'season'))\n",
    "output_predictions = pd.Series(output_predictions, index=full_predictions.index)\n",
    "\n",
    "updated_prediction_set = model_df.copy()\n",
    "updated_prediction_set['predicted_label'] = output_predictions\n",
    "updated_prediction_set = updated_prediction_set[['predicted_label'] + [col for col in updated_prediction_set.columns if col != 'predicted_label']]\n",
    "\n",
    "\n",
    "final_predicitons = pd.merge(FullData, updated_prediction_set, how = 'inner', on = ['WinsPR', 'season', 'OTier', 'DTier', 'OrollTier', 'DrollTier'])\n",
    "final_predicitons = final_predicitons[['predicted_label', 'label'] + [col for col in final_predicitons.columns if col not in ['predicted_label', 'label']]]\n"
   ]
  }
 ],
 "metadata": {
  "kernelspec": {
   "display_name": "Python 3",
   "language": "python",
   "name": "python3"
  },
  "language_info": {
   "codemirror_mode": {
    "name": "ipython",
    "version": 3
   },
   "file_extension": ".py",
   "mimetype": "text/x-python",
   "name": "python",
   "nbconvert_exporter": "python",
   "pygments_lexer": "ipython3",
   "version": "3.13.2"
  }
 },
 "nbformat": 4,
 "nbformat_minor": 5
}
